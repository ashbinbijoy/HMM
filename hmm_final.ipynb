{
  "nbformat": 4,
  "nbformat_minor": 0,
  "metadata": {
    "colab": {
      "provenance": [],
      "include_colab_link": true
    },
    "kernelspec": {
      "name": "python3",
      "display_name": "Python 3"
    },
    "language_info": {
      "name": "python"
    }
  },
  "cells": [
    {
      "cell_type": "markdown",
      "metadata": {
        "id": "view-in-github",
        "colab_type": "text"
      },
      "source": [
        "<a href=\"https://colab.research.google.com/github/ashbinbijoy/HMM/blob/main/hmm_final.ipynb\" target=\"_parent\"><img src=\"https://colab.research.google.com/assets/colab-badge.svg\" alt=\"Open In Colab\"/></a>"
      ]
    },
    {
      "cell_type": "code",
      "execution_count": null,
      "metadata": {
        "colab": {
          "base_uri": "https://localhost:8080/"
        },
        "id": "Q5mydxizvD2x",
        "outputId": "0c06a686-3f6e-4a5f-af3c-a5ccedaa34f9"
      },
      "outputs": [
        {
          "output_type": "stream",
          "name": "stdout",
          "text": [
            "Hidden Markov Model (HMM) Performance Metrics:\n",
            "Train Accuracy: 0.20\n",
            "Test Accuracy: 0.19\n",
            "Overall Accuracy: 0.19\n",
            "Precision: 0.20\n",
            "Recall: 0.19\n",
            "F1-Score: 0.18\n"
          ]
        }
      ],
      "source": [
        "import numpy as np\n",
        "from hmmlearn import hmm\n",
        "from sklearn.preprocessing import LabelEncoder, StandardScaler\n",
        "from sklearn.metrics import precision_score, recall_score, f1_score, accuracy_score\n",
        "\n",
        "# Load data\n",
        "X_train = np.loadtxt('/content/driver_activity_train.csv', delimiter=',', skiprows=1, usecols=range(10))\n",
        "y_train = np.loadtxt('/content/driver_activity_train.csv', delimiter=',', skiprows=1, usecols=10, dtype=str)\n",
        "X_test = np.loadtxt('/content/driver_activity_test.csv', delimiter=',', skiprows=1, usecols=range(10))\n",
        "y_test = np.loadtxt('/content/driver_activity_test.csv', delimiter=',', skiprows=1, usecols=10, dtype=str)\n",
        "\n",
        "# Encode labels\n",
        "encoder = LabelEncoder()\n",
        "y_train_encoded = encoder.fit_transform(y_train)\n",
        "y_test_encoded = encoder.transform(y_test)\n",
        "\n",
        "# Standardize data\n",
        "scaler = StandardScaler()\n",
        "X_train_scaled = scaler.fit_transform(X_train)\n",
        "X_test_scaled = scaler.transform(X_test)\n",
        "\n",
        "# Define Hidden Markov Model (HMM)\n",
        "hmm_model = hmm.GaussianHMM(n_components=len(np.unique(y_train_encoded)), covariance_type='diag', n_iter=100, random_state=42)\n",
        "hmm_model.fit(X_train_scaled)\n",
        "\n",
        "# Predict states\n",
        "y_train_pred = hmm_model.predict(X_train_scaled)\n",
        "y_test_pred = hmm_model.predict(X_test_scaled)\n",
        "\n",
        "# Compute Metrics\n",
        "train_accuracy = accuracy_score(y_train_encoded, y_train_pred)\n",
        "test_accuracy = accuracy_score(y_test_encoded, y_test_pred)\n",
        "overall_accuracy = accuracy_score(y_test_encoded, y_test_pred)\n",
        "precision = precision_score(y_test_encoded, y_test_pred, average='weighted', zero_division=1)\n",
        "recall = recall_score(y_test_encoded, y_test_pred, average='weighted', zero_division=1)\n",
        "f1 = f1_score(y_test_encoded, y_test_pred, average='weighted', zero_division=1)\n",
        "\n",
        "# Print Performance Metrics\n",
        "print(\"Hidden Markov Model (HMM) Performance Metrics:\")\n",
        "print(f\"Train Accuracy: {train_accuracy:.2f}\")\n",
        "print(f\"Test Accuracy: {test_accuracy:.2f}\")\n",
        "print(f\"Overall Accuracy: {overall_accuracy:.2f}\")\n",
        "print(f\"Precision: {precision:.2f}\")\n",
        "print(f\"Recall: {recall:.2f}\")\n",
        "print(f\"F1-Score: {f1:.2f}\")\n"
      ]
    },
    {
      "cell_type": "code",
      "source": [
        "!pip install hmmlearn"
      ],
      "metadata": {
        "colab": {
          "base_uri": "https://localhost:8080/"
        },
        "id": "GF1IQMLwsvzj",
        "outputId": "6d0b73c0-55db-4204-ca14-b5a19baa5abc"
      },
      "execution_count": null,
      "outputs": [
        {
          "output_type": "stream",
          "name": "stdout",
          "text": [
            "Collecting hmmlearn\n",
            "  Downloading hmmlearn-0.3.3-cp311-cp311-manylinux_2_17_x86_64.manylinux2014_x86_64.whl.metadata (3.0 kB)\n",
            "Requirement already satisfied: numpy>=1.10 in /usr/local/lib/python3.11/dist-packages (from hmmlearn) (1.26.4)\n",
            "Requirement already satisfied: scikit-learn!=0.22.0,>=0.16 in /usr/local/lib/python3.11/dist-packages (from hmmlearn) (1.6.1)\n",
            "Requirement already satisfied: scipy>=0.19 in /usr/local/lib/python3.11/dist-packages (from hmmlearn) (1.13.1)\n",
            "Requirement already satisfied: joblib>=1.2.0 in /usr/local/lib/python3.11/dist-packages (from scikit-learn!=0.22.0,>=0.16->hmmlearn) (1.4.2)\n",
            "Requirement already satisfied: threadpoolctl>=3.1.0 in /usr/local/lib/python3.11/dist-packages (from scikit-learn!=0.22.0,>=0.16->hmmlearn) (3.5.0)\n",
            "Downloading hmmlearn-0.3.3-cp311-cp311-manylinux_2_17_x86_64.manylinux2014_x86_64.whl (165 kB)\n",
            "\u001b[?25l   \u001b[90m━━━━━━━━━━━━━━━━━━━━━━━━━━━━━━━━━━━━━━━━\u001b[0m \u001b[32m0.0/165.9 kB\u001b[0m \u001b[31m?\u001b[0m eta \u001b[36m-:--:--\u001b[0m\r\u001b[2K   \u001b[90m━━━━━━━━━━━━━━━━━━━━━━━━━━━━━━━━━━━━━━━━\u001b[0m \u001b[32m165.9/165.9 kB\u001b[0m \u001b[31m9.7 MB/s\u001b[0m eta \u001b[36m0:00:00\u001b[0m\n",
            "\u001b[?25hInstalling collected packages: hmmlearn\n",
            "Successfully installed hmmlearn-0.3.3\n"
          ]
        }
      ]
    }
  ]
}